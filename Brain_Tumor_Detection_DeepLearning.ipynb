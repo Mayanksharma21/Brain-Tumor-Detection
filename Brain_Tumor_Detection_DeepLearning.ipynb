{
  "nbformat": 4,
  "nbformat_minor": 0,
  "metadata": {
    "colab": {
      "provenance": []
    },
    "kernelspec": {
      "name": "python3",
      "display_name": "Python 3"
    },
    "language_info": {
      "name": "python"
    },
    "gpuClass": "standard"
  },
  "cells": [
    {
      "cell_type": "code",
      "execution_count": null,
      "metadata": {
        "id": "k6ucgNauIexp",
        "colab": {
          "base_uri": "https://localhost:8080/"
        },
        "outputId": "d2f2d825-4eaf-4f23-d00a-e27bcc0beee9"
      },
      "outputs": [
        {
          "output_type": "stream",
          "name": "stdout",
          "text": [
            "Mounted at /content/drive\n"
          ]
        }
      ],
      "source": [
        "from google.colab import drive\n",
        "drive.mount('/content/drive')"
      ]
    },
    {
      "cell_type": "code",
      "source": [
        "import cv2\n",
        "import os\n",
        "import numpy as np\n",
        "from PIL import ImageOps, Image\n",
        "from sklearn.model_selection import train_test_split \n",
        "from tensorflow import keras\n",
        "from keras.utils import normalize\n",
        "\n",
        "image_dir = '/content/drive/MyDrive/BrainDetectionProject/Datasets'\n",
        "\n",
        "no_tumor_images = os.listdir(image_dir + '/no/')\n",
        "yes_tumor_images = os.listdir(image_dir + '/yes/')\n",
        "\n",
        "dataset = []\n",
        "label = []\n",
        "\n",
        "# Converting Images from 'jpg' format to 'RGB' for 'no'\n",
        "for i, image_name in enumerate(no_tumor_images):\n",
        "    if(image_name.split('.')[1] == 'jpg'):\n",
        "        image = cv2.imread(image_dir + '/no/' + image_name)\n",
        "        image = Image.fromarray(image, 'RGB')\n",
        "        image = image.resize((64, 64))\n",
        "        if image.size == (64, 64):\n",
        "            dataset.append(np.array(image))\n",
        "            label.append(0)\n",
        "\n",
        "# Converting Images from 'jpg' format to 'RGB' for 'yes'\n",
        "for i, image_name in enumerate(yes_tumor_images):\n",
        "    if(image_name.split('.')[1] == 'jpg'):\n",
        "        image = cv2.imread(image_dir + '/yes/' + image_name)\n",
        "        image = Image.fromarray(image, 'RGB')\n",
        "        image = image.resize((64, 64))\n",
        "        if image.size == (64, 64):\n",
        "            dataset.append(np.array(image))\n",
        "            label.append(1)\n",
        "\n",
        "dataset = np.array(dataset)\n",
        "label = np.array(label)\n",
        "\n",
        "\n",
        "# Splitting the dataset into training and testing set\n",
        "x_train, x_test, y_train, y_test = train_test_split(dataset, label, test_size = 0.2, random_state = 0)\n",
        "\n",
        "# Normalize the data\n",
        "x_train = normalize(x_train, axis=2)\n",
        "x_test = normalize(x_test, axis=2)\n",
        "\n",
        "# Reshape the data\n",
        "x_train = x_train.reshape(x_train.shape[0], x_train.shape[1], x_train.shape[2], 3)\n",
        "x_test = x_test.reshape(x_test.shape[0], x_test.shape[1], x_test.shape[2], 3)\n"
      ],
      "metadata": {
        "id": "YcB7mLo76YRz"
      },
      "execution_count": null,
      "outputs": []
    },
    {
      "cell_type": "code",
      "source": [
        "# Model Building\n",
        "from keras.models import Sequential\n",
        "from keras.layers import Conv2D, MaxPooling2D\n",
        "from keras.layers import Activation, Dropout, Flatten, Dense\n",
        "\n",
        "model = Sequential()\n",
        "INPUT_SIZE = 64\n",
        "\n",
        "model.add(Conv2D(32, (3, 3), input_shape = (INPUT_SIZE, INPUT_SIZE, 3)))\n",
        "model.add(Activation('relu'))\n",
        "model.add(MaxPooling2D(pool_size = (2, 2)))\n",
        "\n",
        "model.add(Conv2D(32, (3, 3), kernel_initializer =\n",
        "                 'he_uniform'))\n",
        "model.add(Activation('relu'))\n",
        "model.add(MaxPooling2D(pool_size = (2, 2)))\n",
        "\n",
        "model.add(Conv2D(64, (3, 3), kernel_initializer = 'he_uniform'))\n",
        "model.add(Activation('relu'))\n",
        "model.add(MaxPooling2D(pool_size = (2, 2)))\n",
        "\n",
        "model.add(Flatten())\n",
        "model.add(Dense(64))\n",
        "model.add(Activation('relu'))\n",
        "model.add(Dropout(0.5))\n",
        "model.add(Dense(1))\n",
        "model.add(Activation('sigmoid'))\n",
        "\n",
        "model.compile(loss='binary_crossentropy', optimizer='adam', metrics=['accuracy'])\n",
        "model.fit(x_train, y_train, batch_size = 16, verbose = 1, epochs = 10, validation_data = (x_test, y_test), shuffle = False)\n",
        "\n",
        "model.save('BrainTumorDetection10epochs.h5')"
      ],
      "metadata": {
        "id": "IIwKTf-Q7eP2",
        "colab": {
          "base_uri": "https://localhost:8080/"
        },
        "outputId": "eeb5fe99-7071-47a3-a389-c8cf9d1068b5"
      },
      "execution_count": null,
      "outputs": [
        {
          "output_type": "stream",
          "name": "stdout",
          "text": [
            "Epoch 1/10\n",
            "150/150 [==============================] - 16s 98ms/step - loss: 0.5470 - accuracy: 0.7188 - val_loss: 0.4723 - val_accuracy: 0.8167\n",
            "Epoch 2/10\n",
            "150/150 [==============================] - 14s 93ms/step - loss: 0.4237 - accuracy: 0.8117 - val_loss: 0.3688 - val_accuracy: 0.8367\n",
            "Epoch 3/10\n",
            "150/150 [==============================] - 17s 111ms/step - loss: 0.3416 - accuracy: 0.8575 - val_loss: 0.2822 - val_accuracy: 0.8767\n",
            "Epoch 4/10\n",
            "150/150 [==============================] - 14s 96ms/step - loss: 0.2497 - accuracy: 0.8983 - val_loss: 0.2172 - val_accuracy: 0.9017\n",
            "Epoch 5/10\n",
            "150/150 [==============================] - 14s 95ms/step - loss: 0.1784 - accuracy: 0.9325 - val_loss: 0.1736 - val_accuracy: 0.9300\n",
            "Epoch 6/10\n",
            "150/150 [==============================] - 14s 93ms/step - loss: 0.1234 - accuracy: 0.9596 - val_loss: 0.1415 - val_accuracy: 0.9467\n",
            "Epoch 7/10\n",
            "150/150 [==============================] - 17s 112ms/step - loss: 0.0916 - accuracy: 0.9725 - val_loss: 0.1070 - val_accuracy: 0.9650\n",
            "Epoch 8/10\n",
            "150/150 [==============================] - 15s 101ms/step - loss: 0.0636 - accuracy: 0.9812 - val_loss: 0.0932 - val_accuracy: 0.9583\n",
            "Epoch 9/10\n",
            "150/150 [==============================] - 14s 95ms/step - loss: 0.0454 - accuracy: 0.9858 - val_loss: 0.1472 - val_accuracy: 0.9433\n",
            "Epoch 10/10\n",
            "150/150 [==============================] - 17s 112ms/step - loss: 0.0391 - accuracy: 0.9887 - val_loss: 0.0629 - val_accuracy: 0.9750\n"
          ]
        }
      ]
    },
    {
      "cell_type": "code",
      "source": [
        "# Load the model\n",
        "model = keras.models.load_model('/content/BrainTumorDetection10epochs.h5')\n",
        "\n",
        "# Define a function to predict tumor\n",
        "def predict_tumor(image_path):\n",
        "    try:\n",
        "        # Open the image file with PIL\n",
        "        image = Image.open(image_path)\n",
        "        # Resize the image to (64,64)\n",
        "        image = image.resize((64, 64))\n",
        "        # Convert the image to numpy array\n",
        "        image_array = np.array(image)\n",
        "        # Normalize the image\n",
        "        image_array = normalize(image_array, axis=2)\n",
        "        # Reshape the image\n",
        "        image_array = image_array.reshape(1, image_array.shape[0], image_array.shape[1], 3)\n",
        "        # Predict the tumor\n",
        "        prediction = model.predict(image_array)\n",
        "        if prediction[0][0] == 1:\n",
        "            return 'Tumor detected'\n",
        "        else:\n",
        "            return 'No tumor detected'\n",
        "    except:\n",
        "        return 'Invalid image file'\n",
        "\n",
        "# Test the function on a sample image\n",
        "image_path = '/content/drive/MyDrive/BrainDetectionProject/Datasets/pred/pred10.jpg'\n",
        "print(predict_tumor(image_path))"
      ],
      "metadata": {
        "id": "Yj1mhb-GwJMg"
      },
      "execution_count": null,
      "outputs": []
    }
  ]
}